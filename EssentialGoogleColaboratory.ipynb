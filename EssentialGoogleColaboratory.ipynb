{
  "nbformat": 4,
  "nbformat_minor": 0,
  "metadata": {
    "colab": {
      "name": "EssentialGoogleColaboratory.ipynb",
      "version": "0.3.2",
      "provenance": [],
      "include_colab_link": true
    },
    "language_info": {
      "codemirror_mode": {
        "name": "ipython",
        "version": 3
      },
      "file_extension": ".py",
      "mimetype": "text/x-python",
      "name": "python",
      "nbconvert_exporter": "python",
      "pygments_lexer": "ipython3",
      "version": "3.6.7"
    },
    "kernelspec": {
      "display_name": "Python 3",
      "language": "python",
      "name": "python3"
    }
  },
  "cells": [
    {
      "cell_type": "markdown",
      "metadata": {
        "id": "view-in-github",
        "colab_type": "text"
      },
      "source": [
        "<a href=\"https://colab.research.google.com/github/happyaivietnam/todo/blob/master/EssentialGoogleColaboratory.ipynb\" target=\"_parent\"><img src=\"https://colab.research.google.com/assets/colab-badge.svg\" alt=\"Open In Colab\"/></a>"
      ]
    },
    {
      "metadata": {
        "id": "DveWVLHJLab1",
        "colab_type": "text"
      },
      "cell_type": "markdown",
      "source": [
        "Google Colaboratory is a promising machine learning research platform. Here are 3 tips to simplify its usage and facilitate using a GPU, installing libraries, and uploading data files. "
      ]
    },
    {
      "metadata": {
        "id": "G-38mbEsLab8",
        "colab_type": "text"
      },
      "cell_type": "markdown",
      "source": [
        "![fig1.jpg](attachment:fig1.jpg)\n",
        "Like many of you, I have been very excited by Google's Colaboratory project. While it isn't exactly new, its recent public release has generated a lot of renewed interest in the collaborative platform.\n",
        "\n",
        "For those that don't know, Google Colaboratory is...\n",
        "\n",
        "    [...] a Google research project created to help disseminate machine learning education and research. It's a Jupyter notebook environment that requires no setup to use and runs entirely in the cloud. \n",
        "\n",
        "Here are a few simple tips for making better use of Colab's capabilities while you play around with it. To be clear, these aren't hidden hacks, but a handy collection of documented (and further clarified) functionality that may be essential."
      ]
    },
    {
      "metadata": {
        "id": "_x3DfEiDLab_",
        "colab_type": "text"
      },
      "cell_type": "markdown",
      "source": [
        "1. Using a Free GPU Runtime\n",
        "\n",
        " \n",
        "Select \"Runtime,\" \"Change runtime type,\" and this is the pop-up you see:\n",
        "\n",
        "![fig2.png](attachment:fig2.png)"
      ]
    },
    {
      "metadata": {
        "id": "e-yxTPHYLacA",
        "colab_type": "text"
      },
      "cell_type": "markdown",
      "source": [
        "Ensure \"Hardware accelerator\" is set to GPU (the default is CPU). Afterward, ensure that you are connected to the runtime (there is a green check next to \"connected\" in the menu ribbon).\n",
        "\n",
        "To check whether you have a visible GPU (i.e. you are currently connected to a GPU instance), run the following excerpt (directly from Google's code samples):"
      ]
    },
    {
      "metadata": {
        "id": "nMmjQ0H2LacD",
        "colab_type": "code",
        "colab": {}
      },
      "cell_type": "code",
      "source": [
        "import tensorflow as tf\n",
        "device_name = tf.test.gpu_device_name()\n",
        "if device_name != '/device:GPU:0':\n",
        "    raise SystemError('GPU device not found')\n",
        "print('Found GPU at: {}'.format(device_name))"
      ],
      "execution_count": 0,
      "outputs": []
    },
    {
      "metadata": {
        "id": "IqfBiqNbLacJ",
        "colab_type": "text"
      },
      "cell_type": "markdown",
      "source": [
        "If you are connected, here is the response:"
      ]
    },
    {
      "metadata": {
        "id": "nCbrPcksLacK",
        "colab_type": "code",
        "colab": {}
      },
      "cell_type": "code",
      "source": [
        "Found GPU at: /device:GPU:0"
      ],
      "execution_count": 0,
      "outputs": []
    },
    {
      "metadata": {
        "id": "XyGsIyLKLacQ",
        "colab_type": "text"
      },
      "cell_type": "markdown",
      "source": [
        "Alternatively, supply and demand issues may lead to this:\n",
        "![fig3.jpg](attachment:fig3.jpg)\n",
        "And there you go. This allows you to access a free GPU for up to 12 hours at a time."
      ]
    },
    {
      "metadata": {
        "id": "bl9kSG2KLacQ",
        "colab_type": "text"
      },
      "cell_type": "markdown",
      "source": [
        "2. Installing Libraries\n",
        "\n",
        " \n",
        "Currently, software installations within Google Colaboratory are not persistent, in that you must reinstall libraries every time you (re-)connect to an instance. Since Colab has numerous useful common libraries installed by default, this is less of an issue than it may seem, and installing those libraries which are not pre-installed are easily added in one of a few different ways.\n",
        "\n",
        "You will want to be aware, however, that installing any software which needs to be built from source may take longer than is feasible when connecting/reconnecting to your instance.\n",
        "\n",
        "Colab supports both the pip and apt package managers. Regardless of which you are using, remember to prepend any bash commands with a !."
      ]
    },
    {
      "metadata": {
        "id": "1qWqMq8CLacS",
        "colab_type": "code",
        "colab": {}
      },
      "cell_type": "code",
      "source": [
        "# Install Keras with pip\n",
        "!pip install -q keras\n",
        "import keras\n",
        "\n",
        ">>> Using TensorFlow backend.\n",
        "\n",
        "\n",
        "# Install GraphViz with apt\n",
        "!apt-get install graphviz -y"
      ],
      "execution_count": 0,
      "outputs": []
    },
    {
      "metadata": {
        "id": "ss52OiR0LacY",
        "colab_type": "text"
      },
      "cell_type": "markdown",
      "source": [
        "![fig4.png](attachment:fig4.png)\n",
        "\n",
        "3. Uploading and Using Data Files\n",
        "\n",
        " \n",
        "You need to data to use in your Colab notebooks, right? You could use something like wget to grab data from the web, but what if you have some local files you want to upload to your Colab environment within your Google Drive and use them?\n",
        "\n",
        "Here's the easiest way to do so, IMO, with a little direction from here.\n",
        "\n",
        "In a 3 step process, first invoke a file selector within your notebook with this:"
      ]
    },
    {
      "metadata": {
        "id": "Xxs3RSfpLacZ",
        "colab_type": "code",
        "colab": {}
      },
      "cell_type": "code",
      "source": [
        "from google.colab import files\n",
        "uploaded = files.upload()"
      ],
      "execution_count": 0,
      "outputs": []
    },
    {
      "metadata": {
        "id": "L5zsjg9GLacd",
        "colab_type": "text"
      },
      "cell_type": "markdown",
      "source": [
        "After your file(s) is/are selected, use the following to iterate the uploaded files in order to find their key names, using:"
      ]
    },
    {
      "metadata": {
        "id": "b_0XQqv2Lace",
        "colab_type": "code",
        "colab": {}
      },
      "cell_type": "code",
      "source": [
        "for fn in uploaded.keys():\n",
        "  print('User uploaded file \"{name}\" with length {length} bytes'.format(name=fn, length=len(uploaded[fn])))"
      ],
      "execution_count": 0,
      "outputs": []
    },
    {
      "metadata": {
        "id": "HLOaXU9ULacj",
        "colab_type": "text"
      },
      "cell_type": "markdown",
      "source": [
        "Example output:\n",
        "User uploaded file \"iris.csv\" with length 3716 bytes"
      ]
    },
    {
      "metadata": {
        "id": "SgL9gC5TLack",
        "colab_type": "text"
      },
      "cell_type": "markdown",
      "source": [
        "Now, load the contents of the file into a Pandas DataFrame using the following:"
      ]
    },
    {
      "metadata": {
        "id": "KrdXm2jBLacm",
        "colab_type": "code",
        "colab": {}
      },
      "cell_type": "code",
      "source": [
        "import pandas as pd\n",
        "import io\n",
        "df = pd.read_csv(io.StringIO(uploaded['iris.csv'].decode('utf-8')))\n",
        "print(df)"
      ],
      "execution_count": 0,
      "outputs": []
    },
    {
      "metadata": {
        "id": "zMEt25rXLacq",
        "colab_type": "text"
      },
      "cell_type": "markdown",
      "source": [
        "There you go. There are other ways out there of getting to the same place uploading and using data files, but I find this one the most straightforward and simple.\n",
        "\n",
        " \n",
        "Google Colab has me excited to try machine learning in a similar way as using Jupyter notebooks, but with less setup and administration. That's the idea, anyways; we'll see how it plays out.\n",
        "\n",
        "If you have any helpful Colab tips or tricks, leave them in the comments below."
      ]
    }
  ]
}