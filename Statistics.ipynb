{
 "cells": [
  {
   "cell_type": "code",
   "execution_count": 10,
   "metadata": {},
   "outputs": [
    {
     "name": "stdout",
     "output_type": "stream",
     "text": [
      "Trung bình số tiền quyên góp là:  477.75\n"
     ]
    }
   ],
   "source": [
    "# import packages numpy dùng để tính toán \n",
    "import numpy as np\n",
    "\n",
    "# Tạo mảng donations đại diện cho số tiền quyên góp trong 12 ngày\n",
    "donations = np.array([100, 60, 70, 900, 100, 200, 500, 500, 503, 600, 1000, 1200])\n",
    "\n",
    "mean_value = np.mean(donations)\n",
    "\n",
    "# Dùng hàm mean() để tính trung bình\n",
    "print('Trung bình số tiền quyên góp là: ', mean_value)"
   ]
  },
  {
   "cell_type": "code",
   "execution_count": 11,
   "metadata": {},
   "outputs": [
    {
     "name": "stdout",
     "output_type": "stream",
     "text": [
      "Trung bình số tiền quyên góp là:  477.75\n"
     ]
    }
   ],
   "source": [
    "def calculate_mean(numbers): #1\n",
    "    s = sum(numbers)         #2\n",
    "    N = len(numbers)         #3\n",
    "    mean = s/N               #4\n",
    "    return mean              #5\n",
    "\n",
    "# Tạo mảng donations đại diện cho số tiền quyên góp trong 12 ngày\n",
    "donations = [100, 60, 70, 900, 100, 200, 500, 500, 503, 600, 1000,1200]\n",
    "\n",
    "mean_value = calculate_mean(donations)\n",
    "print('Trung bình số tiền quyên góp là: ', mean_value)"
   ]
  },
  {
   "cell_type": "code",
   "execution_count": 12,
   "metadata": {},
   "outputs": [
    {
     "name": "stdout",
     "output_type": "stream",
     "text": [
      "Trung bình số tiền quyên góp là:  500.0\n"
     ]
    }
   ],
   "source": [
    "# import packages numpy dùng để tính toán \n",
    "import numpy as np\n",
    "\n",
    "# Tạo mảng donations đại diện cho số tiền quyên góp trong 12 ngày\n",
    "donations = np.array([100, 60, 70, 900, 100, 200, 500, 500, 503, 600, 1000, 1200])\n",
    "\n",
    "meadian_value = np.median(donations)\n",
    "\n",
    "# Dùng hàm np.median() để tính trung vị\n",
    "print('Trung bình số tiền quyên góp là: ', meadian_value)"
   ]
  },
  {
   "cell_type": "code",
   "execution_count": 13,
   "metadata": {},
   "outputs": [
    {
     "name": "stdout",
     "output_type": "stream",
     "text": [
      "Trung vị số tiền quyên góp là:  500.0\n"
     ]
    }
   ],
   "source": [
    "def calculate_median(numbers):                      #1\n",
    "    N = len(numbers)                                #2\n",
    "    numbers.sort()                                  #3\n",
    "    if N%2 == 0:                                    #4\n",
    "        m1 = N/2\n",
    "        m2 = (N/2) + 1\n",
    "        m1 = int(m1)-1\n",
    "        m2 = int(m2)-1\n",
    "        median = (numbers[m1] + numbers[m2])/2\n",
    "    else:                                           #5\n",
    "        m = (N+1)/2\n",
    "        m = int(m)-1\n",
    "        median = numbers[m]\n",
    "    return median                                   #6\n",
    "\n",
    "donations = np.array([100, 60, 70, 900, 100, 200, 500, 500, 503, 600, 1000,1200])\n",
    "meadian_value = calculate_median(donations)\n",
    "\n",
    "print('Trung vị số tiền quyên góp là: ', meadian_value)"
   ]
  },
  {
   "cell_type": "code",
   "execution_count": 5,
   "metadata": {},
   "outputs": [],
   "source": []
  },
  {
   "cell_type": "code",
   "execution_count": 16,
   "metadata": {},
   "outputs": [
    {
     "name": "stdout",
     "output_type": "stream",
     "text": [
      "Most common:  [(9, 5), (6, 3), (7, 2), (8, 2), (10, 2), (5, 2), (1, 2), (2, 1), (4, 1)]\n",
      "Số điểm xuất hiện nhiều nhất:  9\n"
     ]
    }
   ],
   "source": [
    "# import packages Counter để đếm số lần xuất hiện của mỗi giá trị trong chuỗi\n",
    "from collections import Counter\n",
    "\n",
    "points = [7, 8, 9, 2, 10, 9, 9, 9, 9, 4, 5, 6, 1, 5, 6, 7, 8, 6, 1, 10]\n",
    "\n",
    "# Sắp xếp giá trị các phần tử có số luần xuất hiện từ cao tới thấp\n",
    "print('Most common: ', c.most_common())  \n",
    "\n",
    "# tính mode\n",
    "mode = c.most_common(1)\n",
    "print('Số điểm xuất hiện nhiều nhất: ',mode[0][0])"
   ]
  },
  {
   "cell_type": "code",
   "execution_count": null,
   "metadata": {},
   "outputs": [],
   "source": []
  },
  {
   "cell_type": "code",
   "execution_count": 17,
   "metadata": {},
   "outputs": [
    {
     "name": "stdout",
     "output_type": "stream",
     "text": [
      "Mode của chuỗi số đã cho :  9\n"
     ]
    }
   ],
   "source": [
    "# import packages Counter để đếm số lần xuất hiện của mỗi giá trị trong chuỗi\n",
    "from collections import Counter\n",
    "\n",
    "# data\n",
    "points = [7, 8, 9, 2, 10, 9, 9, 9, 9, 4, 5, 6, 1, 5, 6, 7, 8, 6, 1, 10]\n",
    "\n",
    "def calculate_mode(numbers): #1\n",
    "    c = Counter(numbers)     #2\n",
    "    mode = c.most_common(1)  #3\n",
    "    return mode[0][0]        #4\n",
    "\n",
    "print('Mode của chuỗi số đã cho : ', calculate_mode(points)) "
   ]
  },
  {
   "cell_type": "code",
   "execution_count": 18,
   "metadata": {},
   "outputs": [
    {
     "name": "stdout",
     "output_type": "stream",
     "text": [
      "Mode của dãy số points:  [9, 6]\n"
     ]
    }
   ],
   "source": [
    "# import packages Counter để đếm số lần xuất hiện của mỗi giá trị trong chuỗi\n",
    "from collections import Counter\n",
    "\n",
    "# data\n",
    "points = [7, 8, 9, 2, 10, 9, 9, 9, 9, 4, 5, 6, 1, 5, 6, 7, 8, 6, 1, 10, 6, 6]\n",
    "\n",
    "def calculate_mode(numbers):            #1\n",
    "    c = Counter(numbers)                #2 \n",
    "    numbers_freq = c.most_common()      #3\n",
    "    max_count = numbers_freq[0][1]      #4\n",
    "    modes = []                          #5\n",
    "    for num in numbers_freq:\n",
    "        if num[1] == max_count:         #6\n",
    "             modes.append(num[0])\n",
    "    return modes\n",
    "\n",
    "print('Mode của dãy số points: ', calculate_mode(points))"
   ]
  },
  {
   "cell_type": "code",
   "execution_count": 19,
   "metadata": {},
   "outputs": [
    {
     "name": "stdout",
     "output_type": "stream",
     "text": [
      "Number\tFrequency\n",
      "1\t2\n",
      "2\t1\n",
      "4\t1\n",
      "5\t2\n",
      "6\t5\n",
      "7\t2\n",
      "8\t2\n",
      "9\t5\n",
      "10\t2\n"
     ]
    }
   ],
   "source": [
    "# import packages Counter để đếm số lần xuất hiện của mỗi giá trị trong chuỗi\n",
    "from collections import Counter\n",
    "\n",
    "# data\n",
    "points = [7, 8, 9, 2, 10, 9, 9, 9, 9, 4, 5, 6, 1, 5, 6, 7, 8, 6, 1, 10, 6, 6]\n",
    "\n",
    "def frequency_table(numbers):               #1\n",
    "    table = Counter(numbers)                #2\n",
    "    numbers_freq = table.most_common()      #3\n",
    "    numbers_freq.sort()                     #4\n",
    "    print('Number\\tFrequency')              #5\n",
    "    for number in numbers_freq:             #6\n",
    "        print('{0}\\t{1}'.format(number[0], number[1]))\n",
    "        \n",
    "frequency_table(points)"
   ]
  },
  {
   "cell_type": "code",
   "execution_count": 20,
   "metadata": {},
   "outputs": [
    {
     "name": "stdout",
     "output_type": "stream",
     "text": [
      "Lowest: 1\tHighest: 10\tRange: 9\n"
     ]
    }
   ],
   "source": [
    "def find_range(numbers):        #1\n",
    "    lowest  = min(numbers)      #2\n",
    "    highest = max(numbers)      #3\n",
    "    r = highest-lowest          #4\n",
    "    print('Lowest: {0}\\tHighest: {1}\\tRange: {2}'.format(lowest, highest, r))\n",
    "\n",
    "# data\n",
    "points = [7, 8, 9, 2, 10, 9, 9, 9, 9, 4, 5, 6, 1, 5, 6, 7, 8, 6, 1, 10, 6, 6]\n",
    "find_range(points)"
   ]
  },
  {
   "cell_type": "code",
   "execution_count": 21,
   "metadata": {},
   "outputs": [
    {
     "name": "stdout",
     "output_type": "stream",
     "text": [
      "Phương sai của dãy số là:  7.647499999999999\n",
      "Độ lệch chuẩn của dãy số là:  2.7654113618049663\n"
     ]
    }
   ],
   "source": [
    "# data\n",
    "points = [7, 8, 9, 2, 10, 9, 9, 9, 9, 4, 5, 6, 1, 5, 6, 7, 8, 6, 1, 10]\n",
    "\n",
    "def calculate_mean(numbers):                    #1\n",
    "    s = sum(numbers)\n",
    "    N = len(numbers)\n",
    "    mean = s/N\n",
    "    return mean\n",
    "\n",
    "def caculate_variance(numbers):                 #2\n",
    "    mean = calculate_mean(numbers)              #3\n",
    "    \n",
    "    diff = []                                   #4\n",
    "    for num in numbers: \n",
    "         diff.append(num-mean)\n",
    "            \n",
    "    squared_diff = []                           #5\n",
    "    for d in diff:\n",
    "        squared_diff.append(d**2)\n",
    "        sum_squared_diff = sum(squared_diff)\n",
    "        variance = sum_squared_diff/len(numbers)\n",
    "        \n",
    "    return variance\n",
    "\n",
    "print('Phương sai của dãy số là: ', caculate_variance(points))\n",
    "print('Độ lệch chuẩn của dãy số là: ', caculate_variance(points)**0.5)"
   ]
  },
  {
   "cell_type": "code",
   "execution_count": null,
   "metadata": {},
   "outputs": [],
   "source": []
  },
  {
   "cell_type": "code",
   "execution_count": 22,
   "metadata": {},
   "outputs": [
    {
     "name": "stdout",
     "output_type": "stream",
     "text": [
      "Hệ số tương quan tuyến tính giữa hai biến x,y:  0.15448210371054005\n"
     ]
    }
   ],
   "source": [
    "import numpy as np\n",
    "\n",
    "x = np.random.randint(0, 99, size=50)\n",
    "y = np.random.randint(0, 99, size=50)\n",
    "\n",
    "def find_corr_x_y(x,y):                                         #2\n",
    "    n = len(x)\n",
    "    prod = []\n",
    "    for xi,yi in zip(x,y):                                      #3\n",
    "         prod.append(xi*yi)\n",
    "         \n",
    "    sum_prod_x_y = sum(prod)                                    #4\n",
    "    sum_x = sum(x)\n",
    "    sum_y = sum(y)\n",
    "    squared_sum_x = sum_x**2\n",
    "    squared_sum_y = sum_y**2 \n",
    "    x_square = []\n",
    "    for xi in x:\n",
    "         x_square.append(xi**2)\n",
    "            \n",
    "    x_square_sum = sum(x_square)\n",
    "\n",
    "    y_square=[]\n",
    "    for yi in y:\n",
    "        y_square.append(yi**2)\n",
    "        \n",
    "    y_square_sum = sum(y_square)\n",
    "    \n",
    "    # Use formula to calculate correlation                      #5\n",
    "    numerator = n*sum_prod_x_y - sum_x*sum_y\n",
    "    denominator_term1 = n*x_square_sum - squared_sum_x\n",
    "    denominator_term2 = n*y_square_sum - squared_sum_y\n",
    "    denominator = (denominator_term1*denominator_term2)**0.5\n",
    "    correlation = numerator/denominator\n",
    "    \n",
    "    return correlation \n",
    "\n",
    "print('Hệ số tương quan tuyến tính giữa hai biến x,y: ',find_corr_x_y(x,y))"
   ]
  },
  {
   "cell_type": "code",
   "execution_count": null,
   "metadata": {},
   "outputs": [],
   "source": [
    "import numpy as np\n",
    "\n",
    "x = np.random.randint(0, 99, size=50)\n",
    "y = np.random.randint(0, 99, size=50)\n",
    "\n",
    "def find_corr_x_y(x,y):\n",
    "    if len(x) != len(y):                            #1\n",
    "        print('Hai bộ dữ liệu không bằng nhau')\n",
    "        return None\n",
    "    else:\n",
    "        n = len(x)                                  #2\n",
    "        prod = []\n",
    "        for xi,yi in zip(x,y):                      #4\n",
    "             prod.append(xi*yi)\n",
    "             \n",
    "        sum_prod_x_y = sum(prod)                    #5\n",
    "        sum_x = sum(x)\n",
    "        sum_y = sum(y)\n",
    "        squared_sum_x = sum_x**2\n",
    "        squared_sum_y = sum_y**2 \n",
    "        x_square = []\n",
    "        for xi in x:\n",
    "             x_square.append(xi**2)\n",
    "\n",
    "        x_square_sum = sum(x_square)\n",
    "\n",
    "        y_square=[]\n",
    "        for yi in y:\n",
    "            y_square.append(yi**2)\n",
    "\n",
    "        y_square_sum = sum(y_square)\n",
    "\n",
    "        # Use formula to calculate correlation      #6\n",
    "        numerator = n*sum_prod_x_y - sum_x*sum_y\n",
    "        denominator_term1 = n*x_square_sum - squared_sum_x\n",
    "        denominator_term2 = n*y_square_sum - squared_sum_y\n",
    "        denominator = (denominator_term1*denominator_term2)**0.5\n",
    "        correlation = numerator/denominator\n",
    "        \n",
    "        return correlation\n",
    "\n",
    "print('Hệ số tương quan của hai biến x, y: ', find_corr_x_y(x,y))"
   ]
  },
  {
   "cell_type": "code",
   "execution_count": null,
   "metadata": {},
   "outputs": [],
   "source": [
    "from collections import Counter\n",
    "\n",
    "def read_data(filename):\n",
    "    numbers = []\n",
    "    with open(filename) as f:\n",
    "        for line in f:\n",
    "            numbers.append(float(line))\n",
    "    return numbers\n",
    "    \n",
    "def caculate_statistics(data): \n",
    "    data = read_data(data)\n",
    "    mean = calculate_mean(data)\n",
    "    median = calculate_median(data)\n",
    "    mode = calculate_mode(data)\n",
    "    variances = caculate_variance(data)\n",
    "    std = variances**0.5\n",
    "    print('Dữ liệu đã có:{0}\\nTrung bình: {1}\\nTrung vị: {2}\\nMode:{3}\\nPhương sai: {4}\\nĐộ lệch chuẩn: {5}'.format(data,mean,median,mode,variances,std))\n",
    "    \n",
    "caculate_statistics('mydata.txt')"
   ]
  },
  {
   "cell_type": "code",
   "execution_count": null,
   "metadata": {},
   "outputs": [],
   "source": [
    "def find_percentile_score(data, percentile):\n",
    "    if percentile < 0 or percentile > 100:\n",
    "        return None\n",
    "    \n",
    "    data.sort()\n",
    "    if percentile == 0:\n",
    "        return data[0]\n",
    "    if percentile == 100:\n",
    "        return data[-1]\n",
    "        \n",
    "    n = len(data)\n",
    "    rank = (percentile/100)*(n-1) + 1\n",
    "    k = int(rank)\n",
    "    d = rank - k\n",
    "    real_idx_1 = k-1\n",
    "    real_idx_2 = k\n",
    "    print('Phân vị thứ {0} của dữ liệu đã cho là: {1}'. format(percentile,data[real_idx_1] + d*(data[real_idx_2]-data[real_idx_1])))\n",
    "    \n",
    "data = [ 5, 1, 9, 3, 14, 9, 7]\n",
    "find_percentile_score(data, 50)"
   ]
  },
  {
   "cell_type": "code",
   "execution_count": null,
   "metadata": {},
   "outputs": [],
   "source": [
    "def create_classes(numbers, n):\n",
    "    low = min(numbers)\n",
    "    high = max(numbers)\n",
    "    width = (high - low)/n\n",
    "    classes = []\n",
    "    a = low\n",
    "    b = low + width\n",
    "    classes = []\n",
    "    while a < (high-width):\n",
    "        classes.append((a, b))\n",
    "        a = b\n",
    "        b = a + width\n",
    "    classes.append((a, high+1))\n",
    "    return classes\n",
    "\n",
    "def classify(numbers, n):\n",
    "    classes = create_classes(numbers, n)\n",
    "    count = [0]*len(classes)\n",
    "    for n in numbers:\n",
    "        for index, c in enumerate(classes):\n",
    "            if n >= c[0] and n < c[1]:\n",
    "                count[index] += 1\n",
    "                break\n",
    "    for c, cnt in zip(classes, count):\n",
    "        print('{0:.2f} - {1:.2f} \\t {2}'.format(c[0], c[1], cnt))\n",
    "        \n",
    "numbers = [7, 8, 9, 2, 10, 9, 9, 9, 9, 4, 5, 6, 1, 5, 6, 7, 8, 6, 1, 10]\n",
    "classify(numbers, 3)"
   ]
  },
  {
   "cell_type": "code",
   "execution_count": null,
   "metadata": {},
   "outputs": [],
   "source": []
  }
 ],
 "metadata": {
  "kernelspec": {
   "display_name": "Python 3",
   "language": "python",
   "name": "python3"
  },
  "language_info": {
   "codemirror_mode": {
    "name": "ipython",
    "version": 3
   },
   "file_extension": ".py",
   "mimetype": "text/x-python",
   "name": "python",
   "nbconvert_exporter": "python",
   "pygments_lexer": "ipython3",
   "version": "3.6.7"
  }
 },
 "nbformat": 4,
 "nbformat_minor": 2
}
