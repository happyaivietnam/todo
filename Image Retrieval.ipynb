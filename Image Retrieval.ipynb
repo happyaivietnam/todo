{
 "cells": [
  {
   "cell_type": "code",
   "execution_count": 1,
   "metadata": {
    "scrolled": false
   },
   "outputs": [
    {
     "name": "stdout",
     "output_type": "stream",
     "text": [
      "WARNING:tensorflow:From /home/quangvinhproject/programming_env/tensorflow_projects/lib/python3.6/site-packages/tensorflow/python/ops/resource_variable_ops.py:435: colocate_with (from tensorflow.python.framework.ops) is deprecated and will be removed in a future version.\n",
      "Instructions for updating:\n",
      "Colocations handled automatically by placer.\n"
     ]
    }
   ],
   "source": [
    "import numpy as np\n",
    "from sklearn.metrics.pairwise import cosine_similarity\n",
    "\n",
    "import tensorflow as tf\n",
    "from tensorflow.keras.preprocessing import image as kimage\n",
    "from tensorflow.keras.applications.vgg16 import preprocess_input\n",
    "\n",
    "model = tf.keras.applications.VGG16(include_top=False, weights='imagenet', input_shape=(86, 128, 3))"
   ]
  },
  {
   "cell_type": "code",
   "execution_count": 4,
   "metadata": {},
   "outputs": [
    {
     "name": "stderr",
     "output_type": "stream",
     "text": [
      "/home/quangvinhproject/programming_env/tensorflow_projects/lib/python3.6/site-packages/ipykernel_launcher.py:4: DeprecationWarning: `imsave` is deprecated!\n",
      "`imsave` is deprecated in SciPy 1.0.0, and will be removed in 1.2.0.\n",
      "Use ``imageio.imwrite`` instead.\n",
      "  after removing the cwd from sys.path.\n"
     ]
    }
   ],
   "source": []
  },
  {
   "cell_type": "code",
   "execution_count": 3,
   "metadata": {},
   "outputs": [
    {
     "name": "stdout",
     "output_type": "stream",
     "text": [
      "(0.9999998807907104, 7718)\n",
      "(0.7234525680541992, 7719)\n",
      "(0.6750410795211792, 7614)\n",
      "(0.6609638929367065, 5218)\n",
      "(0.6601340174674988, 7620)\n",
      "(0.6346036195755005, 7714)\n",
      "(0.6314664483070374, 7722)\n",
      "(0.6311061382293701, 7672)\n"
     ]
    }
   ],
   "source": [
    "query = kimage.load_img('q3.jpg', target_size=(86, 128))\n",
    "query_np = kimage.img_to_array(query)\n",
    "query_np = np.expand_dims(query_np, axis=0)\n",
    "query_np = preprocess_input(query_np)\n",
    "\n",
    "images = []\n",
    "lists = [i for i in range(1,9908)]\n",
    "for index in lists:\n",
    "    img = kimage.load_img('images/%d.jpg' % (index), target_size=(86, 128))\n",
    "    \n",
    "    img_np = kimage.img_to_array(img)\n",
    "    img_np = np.expand_dims(img_np, axis=0)\n",
    "    img_np = preprocess_input(img_np)\n",
    "\n",
    "    images.append(img_np)\n",
    "    \n",
    "images_np = np.array(images).squeeze()\n",
    "\n",
    "pred_query = model.predict(query_np)\n",
    "pred_images = model.predict(images_np)\n",
    "\n",
    "pred_query  = np.reshape(pred_query,  (1, -1))\n",
    "pred_images = np.reshape(pred_images, (len(lists), -1))\n",
    "sim = cosine_similarity(pred_query, pred_images).squeeze()\n",
    "\n",
    "def getKey(item):\n",
    "    return item[0]\n",
    "\n",
    "tp = zip(sim.tolist(),lists)\n",
    "\n",
    "tp_s = sorted(tp, key=getKey, reverse=True)\n",
    "\n",
    "for i in range(8):\n",
    "    print(tp_s[i])"
   ]
  },
  {
   "cell_type": "code",
   "execution_count": null,
   "metadata": {},
   "outputs": [],
   "source": []
  },
  {
   "cell_type": "code",
   "execution_count": null,
   "metadata": {},
   "outputs": [],
   "source": []
  }
 ],
 "metadata": {
  "kernelspec": {
   "display_name": "Python 3",
   "language": "python",
   "name": "python3"
  },
  "language_info": {
   "codemirror_mode": {
    "name": "ipython",
    "version": 3
   },
   "file_extension": ".py",
   "mimetype": "text/x-python",
   "name": "python",
   "nbconvert_exporter": "python",
   "pygments_lexer": "ipython3",
   "version": "3.6.7"
  }
 },
 "nbformat": 4,
 "nbformat_minor": 2
}
